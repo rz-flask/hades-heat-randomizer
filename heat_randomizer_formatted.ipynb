{
 "cells": [
  {
   "cell_type": "markdown",
   "metadata": {},
   "source": [
    "The heats are stored using a dictionary. basically everything has an \"exposed\" end to simulate what a player using the in-game pact will see in the UI.\n",
    "\n",
    "The index is the level that the condition is raised to. Initialized to an array of zeros.\n",
    "\n",
    "If a heat's entry gets picked, the index gets advanced by 1. \n",
    "\n",
    "\n",
    "We need to make sure that if a pact is used up, the \"exposed\" number is 0 and cannot be selected. tacked onto the end of all heat costs.\n",
    "\n",
    "This is for quick reddit pasting.\n"
   ]
  },
  {
   "cell_type": "code",
   "execution_count": 1,
   "metadata": {},
   "outputs": [],
   "source": [
    "# !conda install tabulate -y"
   ]
  },
  {
   "cell_type": "code",
   "execution_count": 2,
   "metadata": {},
   "outputs": [],
   "source": [
    "import numpy as np\n",
    "import pandas as pd"
   ]
  },
  {
   "cell_type": "markdown",
   "metadata": {},
   "source": [
    "## stuff for random heats"
   ]
  },
  {
   "cell_type": "code",
   "execution_count": 3,
   "metadata": {},
   "outputs": [],
   "source": [
    "def heat_check(heats_values,active_index):\n",
    "    # adds up heat values for a generated combination.\n",
    "    # just to check that the heat adds up\n",
    "    heat_total = 0\n",
    "    for i_ind, ind in enumerate(active_index):\n",
    "        if ind > 0:\n",
    "            active_heats = heats_values[i_ind][:ind]\n",
    "            heat_total += sum(active_heats)         \n",
    "    return heat_total"
   ]
  },
  {
   "cell_type": "code",
   "execution_count": 4,
   "metadata": {},
   "outputs": [],
   "source": [
    "def get_random_heats_reddit(heat_thresholds,init_heats=None,restrict_hs=True):\n",
    "\n",
    "    heats_dict = {\n",
    "\n",
    "        \"Hard Labor\": [1,1,1,1,1,0],\n",
    "        \"Lasting Consequences\": [1,1,1,1,0],\n",
    "        \"Convenience Fee\": [1,1,0],\n",
    "        \"Jury Summons\":[1,1,1,0],\n",
    "        \"Extreme Measures\":[1,2,3,4,0],\n",
    "        \"Calisthenics Program\":[1,1,0],\n",
    "        \"Benefits Package\":[2,3,0],\n",
    "        \"Middle Management\":[2,0],\n",
    "        \"Underworld Customs\":[2,0],\n",
    "        \"Forced Overtime\":[3,3,0],\n",
    "        \"Heightened Security\":[1,0],\n",
    "        \"Routine Inspection\":[2,2,2,2,0],\n",
    "        \"Damage Control\":[1,1,0],\n",
    "        \"Approval Process\":[2,3,0],\n",
    "        \"Tight Deadline\":[1,2,3,0]\n",
    "\n",
    "    }\n",
    "    \n",
    "    # mods to not have runs be absurdly unfun\n",
    "    heats_dict[\"Calisthenics Program\"] = [0]\n",
    "    heats_dict[\"Damage Control\"] = [1,0]\n",
    "    \n",
    "    output_dict = {}\n",
    "    \n",
    "    # hs removed for below \n",
    "    # if restrictions placed on hs:\n",
    "    # 24-32 has hs if it's not cancer \n",
    "    # no restrictions on 32.\n",
    "    \n",
    "    heats_values = [i for i in heats_dict.values()]\n",
    "    heats_names = [i for i in heats_dict.keys()]\n",
    "    \n",
    "    if init_heats is not None:\n",
    "        if len(heats_dict) != len(init_heats):\n",
    "            print(\"initial heat array wrong length\")\n",
    "            \n",
    "            return\n",
    "        \n",
    "        else:\n",
    "            active_index = init_heats\n",
    "            running_heat = heat_check(heats_values,active_index)\n",
    "        \n",
    "    else:\n",
    "        active_index = np.zeros(len(heats_dict),dtype=\"int8\")\n",
    "        running_heat = 0\n",
    "\n",
    "    for max_heat in heat_thresholds:\n",
    "        # can turn this into a function lol\n",
    "        if max_heat < 24:\n",
    "            heats_dict[\"Heightened Security\"] = [0]\n",
    "            heats_dict[\"Routine Inspection\"] = [0]\n",
    "        elif max_heat in range(24,32) and not restrict_hs:\n",
    "            heats_dict[\"Heightened Security\"] = [1,0] \n",
    "            heats_dict[\"Routine Inspection\"] = [2,0]\n",
    "        elif max_heat >= 32:\n",
    "            heats_dict[\"Heightened Security\"] = [1,0]\n",
    "            heats_dict[\"Routine Inspection\"] = [2,0]\n",
    "            \n",
    "        while running_heat < max_heat:\n",
    "\n",
    "            # generate the outer layer. Bascially the numbers on the right of the pact UI.\n",
    "            outer_layer = []\n",
    "            for ih, h in enumerate(heats_dict.values()):\n",
    "                outer_layer.append(h[active_index[ih]])\n",
    "            outer_layer = np.asarray(outer_layer)\n",
    "\n",
    "            # get how much heat we can still add to not exceed the max\n",
    "            remaining_heat = max_heat - running_heat\n",
    "\n",
    "            # get the indices of what heats we can still add\n",
    "            # the layer must not be 0 (ie still have stuff left)\n",
    "            # and must be LEQ to the remaining heat\n",
    "            valid_heat_inds = np.where( (outer_layer != 0) & (outer_layer <= remaining_heat) )[0]\n",
    "\n",
    "            # pick a heat INDEX that you want to raise\n",
    "            selected_heat_ind = np.random.choice(valid_heat_inds)\n",
    "\n",
    "            # figure out how much to increment the running heat\n",
    "            # basically, get the list of heats first, then get the heat level\n",
    "            running_heat += heats_values[selected_heat_ind][active_index[selected_heat_ind]]\n",
    "\n",
    "            # update active heat levels\n",
    "            active_index[selected_heat_ind] += 1\n",
    "            \n",
    "        output_dict[f\"**{max_heat}**\"] = active_index.copy()\n",
    "\n",
    "    out_df = pd.DataFrame(output_dict,index=heats_names)\n",
    "    out_df[out_df.eq(0)] = \"\"\n",
    "    print(out_df.to_markdown())\n",
    "#     return output_dict"
   ]
  },
  {
   "cell_type": "markdown",
   "metadata": {},
   "source": [
    "## weapons and other"
   ]
  },
  {
   "cell_type": "code",
   "execution_count": 5,
   "metadata": {},
   "outputs": [],
   "source": [
    "def get_random_weapon():\n",
    "    \n",
    "    weapons = [\"Zag sword\",\"Nem sword\",\"Posi sword\",\"Arthur sword\",\n",
    "               \"Zag spear\",\"Hades spear\",\"Achilles spear\",\"Guan Yu spear\",\n",
    "               \"Zag shield\",\"Chaos shield\",\"Zeus shield\",\"Beowulf shield\",\n",
    "               \"Zag bow\",\"Chiron bow\",\"Hera bow\",\"Rama bow\",\n",
    "               \"Zag fists\",\"Talos fists\",\"Demeter fists\",\"Gilga fists\",\n",
    "               \"Zag rail\",\"Hestia rail\",\"Eris rail\",\"Lucifer rail\"]\n",
    "    \n",
    "\n",
    "    selected_weapon = np.random.choice(weapons)\n",
    "    print(\"Weapon:\",selected_weapon)\n",
    "    \n",
    "    return selected_weapon"
   ]
  },
  {
   "cell_type": "code",
   "execution_count": 6,
   "metadata": {},
   "outputs": [],
   "source": [
    "def get_random_companion():\n",
    "    companions = [\"Battie\",\"Mort\",\"Fidi\",\"Rib\",\"Antos\"]\n",
    "    print(\"Companion\",np.random.choice(companions))"
   ]
  },
  {
   "cell_type": "markdown",
   "metadata": {},
   "source": [
    "tartarus: anything\n",
    "\n",
    "Asphodel: anything\n",
    "\n",
    "Elysium: if tartarus != Asphodel, cannot be tartarus\n",
    "\n",
    "Styx: if tartarus != Elysium and Asphodel != Elysium, cannot be those 2"
   ]
  },
  {
   "cell_type": "markdown",
   "metadata": {},
   "source": [
    "keepsake can be KEPT in consecutive regions, but once put down, cannot be picked back up again.\n"
   ]
  },
  {
   "cell_type": "code",
   "execution_count": 7,
   "metadata": {},
   "outputs": [],
   "source": [
    "def get_random_keepsakes(special_weight=1):\n",
    "    \n",
    "    keepsakes = ['Adamant Arrowhead', 'Black Shawl', 'Blood-Filled Vial', 'Bone Hourglass', 'Broken Spearpoint',\n",
    "                 'Chthonic Coin Purse', 'Conch Shell', 'Cosmic Egg', 'Distant Memory', 'Eternal Rose', 'Evergreen Acorn',\n",
    "                 'Frostbitten Horn', 'Harpy Feather Duster', 'Lucky Tooth', 'Myrmidon Bracer','Old Spiked Collar',\n",
    "                 'Overflowing Cup', 'Owl Pendant', 'Pom Blossom', 'Shattered Shackle', 'Skull Earring', 'Thunder Signet',\n",
    "                 'Lambent Plume','Pierced Butterfly','Sigil of the Dead']\n",
    "    \n",
    "    # lower the probabilities for the last 3 keepsakes \n",
    "    # to [special_weight] times lower than the others\n",
    "    \n",
    "    # if one wants to weigh the other keepsakes as well, it might be better to write\n",
    "    # another function that generates the initial weights vector, to spread out the clutter.\n",
    "    k_weights = np.full(len(keepsakes),special_weight)\n",
    "    k_weights[-3:] = 1\n",
    "    k_weights = k_weights/sum(k_weights)\n",
    "    \n",
    "    tartarus = np.random.choice(keepsakes,p=k_weights)\n",
    "    asphodel = np.random.choice(keepsakes,p=k_weights)\n",
    "\n",
    "    if tartarus != asphodel:\n",
    "        # zero the weight for the returned keepsake and re-normalize weights\n",
    "        k_weights[keepsakes.index(tartarus)] = 0\n",
    "        k_weights = k_weights/sum(k_weights)\n",
    "\n",
    "    elysium = np.random.choice(keepsakes,p=k_weights)\n",
    "\n",
    "\n",
    "    if asphodel != elysium:\n",
    "        # zero and re-normalize again\n",
    "        k_weights[keepsakes.index(asphodel)] = 0\n",
    "        k_weights = k_weights/sum(k_weights)\n",
    "\n",
    "    styx = np.random.choice(keepsakes,p=k_weights)\n",
    "    \n",
    "    out_df = pd.DataFrame(data={\"**Region**\":[\"Tartarus\",\"Asphodel\",\"Elysium\",\"Styx\"],\n",
    "                                \"**Keepsake**\":[tartarus,asphodel,elysium,styx]})\n",
    "    print(out_df.to_markdown(index=False))"
   ]
  },
  {
   "cell_type": "code",
   "execution_count": 8,
   "metadata": {},
   "outputs": [],
   "source": [
    "def get_random_mirror_reddit():\n",
    "    mirror = [\n",
    "        (\"Shadow Presence\",\"Fiery Presence\"),\n",
    "        (\"Chthonic Vitality\",\"Dark Regeneration\"),\n",
    "        (\"Death Defiance\",\"Stubborn Defiance\"),\n",
    "        (\"Greater Reflex\",\"Ruthless Reflex\"),\n",
    "        (\"Boiling Blood\",\"Abyssal Blood\"),\n",
    "        (\"Infernal Soul\",\"Stygian Soul\"),\n",
    "        (\"Deep Pockets\",\"Golden Touch\"),\n",
    "        (\"Thick Skin\",\"High Confidence\"),\n",
    "        (\"Privileged Status\",\"Family Favorite\"),\n",
    "        (\"Olympian Favor\",\"Dark Foresight\"),\n",
    "        (\"Gods' Pride\",\"Gods' Legacy\"),\n",
    "        (\"Fated Authority\",\"Fated Persuasion\")\n",
    "    ]\n",
    "    mirror_choices = [np.random.choice(i) for i in mirror]\n",
    "    \n",
    "    purples = [i[0] for i in mirror]\n",
    "    greens = [i[1] for i in mirror]\n",
    "    out_df = pd.DataFrame(data={\"**Purple**\":purples,\"**Green**\":greens})\n",
    "    out_df[~out_df.isin(mirror_choices)] = \"\"\n",
    "    \n",
    "    print(out_df.to_markdown(index=False))\n",
    "    \n",
    "    return mirror_choices\n"
   ]
  },
  {
   "cell_type": "markdown",
   "metadata": {},
   "source": [
    "## actually generate kit"
   ]
  },
  {
   "cell_type": "markdown",
   "metadata": {},
   "source": [
    "mirror, weapon and companion are simple random choices\n",
    "\n",
    "For keepsakes, Lambent Plume, Pierced Butterfly and Sigil of the Dead can be weighted to appear less frequently than the other keepsakes. The variable for get_random_keepsakes lowers the probabilities of those 3 keepsakes by that many times. \n",
    "\n",
    "\"sane\" keepsake stuff to take into consideration can be:\n",
    "\n",
    "- no shackle in Elysium and Styx\n",
    "- no Sigil pickup in Styx. Keeping it through is fine. \n",
    "- butterfly (and maybe plume), if picked up, must be kept through the whole run.\n",
    "\n",
    "- new add: no distant memery if weapon is melee. not actually implemented, just manually fix\n",
    "\n",
    "for \"bare\" sanity, just no Sigil in Styx. Everything else goes. \n",
    "OR just offer alternatives if Sigil is taken.\n",
    "\n",
    "tbh, we can just NOT take these into consideration, and fix on the fly.\n",
    "\n",
    "get_random_heats takes in a list of heats, in case one wants to generate heat sets for various game experience levels. Each higher heat contains all pact elements of the lower heats before it. If only 1 heat is needed, just put a 1-element list, like [8]"
   ]
  },
  {
   "cell_type": "code",
   "execution_count": 9,
   "metadata": {},
   "outputs": [
    {
     "name": "stdout",
     "output_type": "stream",
     "text": [
      "Weapon: Zag rail\n"
     ]
    },
    {
     "data": {
      "text/plain": [
       "'Zag rail'"
      ]
     },
     "execution_count": 9,
     "metadata": {},
     "output_type": "execute_result"
    }
   ],
   "source": [
    "# a spare cell to generate alternative options if something is too janky\n",
    "get_random_weapon()"
   ]
  },
  {
   "cell_type": "code",
   "execution_count": 10,
   "metadata": {},
   "outputs": [
    {
     "name": "stdout",
     "output_type": "stream",
     "text": [
      "Weapon: Posi sword\n",
      "\n",
      "| **Purple**     | **Green**         |\n",
      "|:---------------|:------------------|\n",
      "|                | Fiery Presence    |\n",
      "|                | Dark Regeneration |\n",
      "|                | Stubborn Defiance |\n",
      "|                | Ruthless Reflex   |\n",
      "|                | Abyssal Blood     |\n",
      "|                | Stygian Soul      |\n",
      "| Deep Pockets   |                   |\n",
      "| Thick Skin     |                   |\n",
      "|                | Family Favorite   |\n",
      "| Olympian Favor |                   |\n",
      "| Gods' Pride    |                   |\n",
      "|                | Fated Persuasion  |\n",
      "\n",
      "True\n",
      "Companion Antos\n",
      "\n",
      "| **Region**   | **Keepsake**     |\n",
      "|:-------------|:-----------------|\n",
      "| Tartarus     | Frostbitten Horn |\n",
      "| Asphodel     | Skull Earring    |\n",
      "| Elysium      | Lucky Tooth      |\n",
      "| Styx         | Evergreen Acorn  |\n",
      "\n",
      "|                      | **4**   | **8**   | **16**   | **24**   | **32**   |\n",
      "|:---------------------|:--------|:--------|:---------|:---------|:---------|\n",
      "| Hard Labor           | 1       | 2       | 3        | 4        | 4        |\n",
      "| Lasting Consequences |         |         |          | 1        | 1        |\n",
      "| Convenience Fee      |         |         |          | 1        | 1        |\n",
      "| Jury Summons         | 1       | 2       | 2        | 2        | 3        |\n",
      "| Extreme Measures     |         |         |          |          | 1        |\n",
      "| Calisthenics Program |         |         |          |          |          |\n",
      "| Benefits Package     |         |         |          |          | 1        |\n",
      "| Middle Management    | 1       | 1       | 1        | 1        | 1        |\n",
      "| Underworld Customs   |         | 1       | 1        | 1        | 1        |\n",
      "| Forced Overtime      |         |         | 2        | 2        | 2        |\n",
      "| Heightened Security  |         |         |          |          | 1        |\n",
      "| Routine Inspection   |         |         |          |          | 1        |\n",
      "| Damage Control       |         |         | 1        | 1        | 1        |\n",
      "| Approval Process     |         |         |          | 2        | 2        |\n",
      "| Tight Deadline       |         |         |          |          | 1        |\n"
     ]
    }
   ],
   "source": [
    "wpn = get_random_weapon()\n",
    "print()\n",
    "\n",
    "melee_wpn =  any([i in wpn for i in [\"sword\",\"spear\",\"fists\"]])\n",
    "\n",
    "mirror = get_random_mirror_reddit()\n",
    "print()\n",
    "\n",
    "hs_meter = sum([i in mirror for i in [\"Stubborn Defiance\",\"High Confidence\"]])\n",
    "hs_meter += (\"Ruthless Reflex\" in mirror)\n",
    "\n",
    "restrict_hs = melee_wpn and hs_meter >= 2\n",
    "print(restrict_hs)\n",
    "\n",
    "get_random_companion()\n",
    "print()\n",
    "get_random_keepsakes(10)\n",
    "print()\n",
    "\n",
    "# init_heats = np.array([0,0,0,0,0,0,0,0,0,0,0,1,0,1,0])\n",
    "init_heats = None\n",
    "get_random_heats_reddit([4,8,16,24,32],init_heats=init_heats,restrict_hs=restrict_hs)"
   ]
  },
  {
   "cell_type": "code",
   "execution_count": 11,
   "metadata": {},
   "outputs": [
    {
     "name": "stdout",
     "output_type": "stream",
     "text": [
      "| **Region**   | **Keepsake**      |\n",
      "|:-------------|:------------------|\n",
      "| Tartarus     | Evergreen Acorn   |\n",
      "| Asphodel     | Cosmic Egg        |\n",
      "| Elysium      | Bone Hourglass    |\n",
      "| Styx         | Adamant Arrowhead |\n"
     ]
    }
   ],
   "source": [
    "get_random_keepsakes(10)"
   ]
  },
  {
   "cell_type": "code",
   "execution_count": 12,
   "metadata": {},
   "outputs": [
    {
     "name": "stdout",
     "output_type": "stream",
     "text": [
      "|                      | **4**   | **8**   | **16**   | **24**   | **32**   |\n",
      "|:---------------------|:--------|:--------|:---------|:---------|:---------|\n",
      "| Hard Labor           |         |         |          |          | 4        |\n",
      "| Lasting Consequences | 1       | 1       | 2        | 3        | 4        |\n",
      "| Convenience Fee      |         |         |          |          |          |\n",
      "| Jury Summons         |         |         |          | 1        | 1        |\n",
      "| Extreme Measures     | 1       | 1       | 1        | 1        | 2        |\n",
      "| Calisthenics Program |         |         |          |          |          |\n",
      "| Benefits Package     |         | 1       | 1        | 1        | 1        |\n",
      "| Middle Management    |         |         | 1        | 1        | 1        |\n",
      "| Underworld Customs   |         |         |          |          |          |\n",
      "| Forced Overtime      |         |         | 1        | 2        | 2        |\n",
      "| Heightened Security  |         |         |          |          | 1        |\n",
      "| Routine Inspection   |         |         |          |          |          |\n",
      "| Damage Control       |         | 1       | 1        | 1        | 1        |\n",
      "| Approval Process     | 1       | 1       | 1        | 2        | 2        |\n",
      "| Tight Deadline       |         | 1       | 2        | 2        | 2        |\n"
     ]
    }
   ],
   "source": [
    "get_random_heats_reddit([4,8,16,24,32],restrict_hs=restrict_hs)"
   ]
  }
 ],
 "metadata": {
  "kernelspec": {
   "display_name": "Python 3 (ipykernel)",
   "language": "python",
   "name": "python3"
  },
  "language_info": {
   "codemirror_mode": {
    "name": "ipython",
    "version": 3
   },
   "file_extension": ".py",
   "mimetype": "text/x-python",
   "name": "python",
   "nbconvert_exporter": "python",
   "pygments_lexer": "ipython3",
   "version": "3.9.7"
  }
 },
 "nbformat": 4,
 "nbformat_minor": 4
}
